{
 "cells": [
  {
   "cell_type": "markdown",
   "metadata": {},
   "source": [
    "# American community Survey Year 1 Estimates (2015)\n",
    " http://api.census.gov/data/2015/acs1.html\n"
   ]
  },
  {
   "cell_type": "code",
   "execution_count": 3,
   "metadata": {
    "collapsed": true
   },
   "outputs": [],
   "source": [
    "import requests\n",
    "import pandas as pd"
   ]
  },
  {
   "cell_type": "code",
   "execution_count": null,
   "metadata": {
    "collapsed": true
   },
   "outputs": [],
   "source": [
    "# API key requested from www.census.gov\n",
    "f = open('/Users/brianna/Dropbox/data_project/census_api_key.txt', 'r')\n",
    "api_key = f.readline()[:-1]\n",
    "f.close()"
   ]
  },
  {
   "cell_type": "code",
   "execution_count": 12,
   "metadata": {
    "collapsed": false
   },
   "outputs": [],
   "source": [
    "# Population in Urban Areas (60,000+ citizens)\n",
    "url = 'http://api.census.gov/data/2015/acs1?get=NAME,B01001_001E&for=urban+area:*'\n",
    "response = requests.get(url)\n",
    "data = eval(response.content)\n",
    "\n",
    "# Turn the response into a dataframe and make it pretty\n",
    "headers = data.pop(0)\n",
    "df = pd.DataFrame(data, columns=headers)\n",
    "df.rename(columns={'B01001_001E': 'population', 'urban area': 'urban_area'}, inplace=True)\n",
    "df['population'] = df.population.apply(lambda x: int(x))\n",
    "df['urban_area'] = df.urban_area.apply(lambda x: int(x))"
   ]
  },
  {
   "cell_type": "code",
   "execution_count": 13,
   "metadata": {
    "collapsed": false
   },
   "outputs": [
    {
     "data": {
      "text/html": [
       "<div>\n",
       "<table border=\"1\" class=\"dataframe\">\n",
       "  <thead>\n",
       "    <tr style=\"text-align: right;\">\n",
       "      <th></th>\n",
       "      <th>NAME</th>\n",
       "      <th>population</th>\n",
       "      <th>urban_area</th>\n",
       "    </tr>\n",
       "  </thead>\n",
       "  <tbody>\n",
       "    <tr>\n",
       "      <th>0</th>\n",
       "      <td>Aguadilla--Isabela--San Sebastián, PR Urbanize...</td>\n",
       "      <td>284616</td>\n",
       "      <td>631</td>\n",
       "    </tr>\n",
       "    <tr>\n",
       "      <th>1</th>\n",
       "      <td>Arecibo, PR Urbanized Area (2010)</td>\n",
       "      <td>128461</td>\n",
       "      <td>3034</td>\n",
       "    </tr>\n",
       "    <tr>\n",
       "      <th>2</th>\n",
       "      <td>Fajardo, PR Urbanized Area (2010)</td>\n",
       "      <td>79305</td>\n",
       "      <td>28981</td>\n",
       "    </tr>\n",
       "    <tr>\n",
       "      <th>3</th>\n",
       "      <td>Florida--Imbéry--Barceloneta, PR Urbanized Are...</td>\n",
       "      <td>71004</td>\n",
       "      <td>30115</td>\n",
       "    </tr>\n",
       "    <tr>\n",
       "      <th>4</th>\n",
       "      <td>Guayama, PR Urbanized Area (2010)</td>\n",
       "      <td>73110</td>\n",
       "      <td>35866</td>\n",
       "    </tr>\n",
       "  </tbody>\n",
       "</table>\n",
       "</div>"
      ],
      "text/plain": [
       "                                                NAME  population  urban_area\n",
       "0  Aguadilla--Isabela--San Sebastián, PR Urbanize...      284616         631\n",
       "1                  Arecibo, PR Urbanized Area (2010)      128461        3034\n",
       "2                  Fajardo, PR Urbanized Area (2010)       79305       28981\n",
       "3  Florida--Imbéry--Barceloneta, PR Urbanized Are...       71004       30115\n",
       "4                  Guayama, PR Urbanized Area (2010)       73110       35866"
      ]
     },
     "execution_count": 13,
     "metadata": {},
     "output_type": "execute_result"
    }
   ],
   "source": [
    "df.head()"
   ]
  },
  {
   "cell_type": "code",
   "execution_count": 20,
   "metadata": {
    "collapsed": false
   },
   "outputs": [
    {
     "name": "stdout",
     "output_type": "stream",
     "text": [
      "                                                  NAME  population  urban_area\n",
      "280  New York--Newark, NY--NJ--CT Urbanized Area (2...    18972363       63217\n",
      "236  Los Angeles--Long Beach--Anaheim, CA Urbanized...    12638616       51445\n",
      "81               Chicago, IL--IN Urbanized Area (2010)     8692894       16264\n",
      "254                    Miami, FL Urbanized Area (2010)     5949146       56602\n",
      "99   Dallas--Fort Worth--Arlington, TX Urbanized Ar...     5638941       22042\n",
      "                                           NAME  population  urban_area\n",
      "234      Longview, WA--OR Urbanized Area (2010)       62353       51283\n",
      "102  Daphne--Fairhope, AL Urbanized Area (2010)       63645       22285\n",
      "165           Hanover, PA Urbanized Area (2010)       63876       36784\n",
      "152   Grand Forks, ND--MN Urbanized Area (2010)       64631       34219\n",
      "151         Goldsboro, NC Urbanized Area (2010)       65513       33814\n"
     ]
    }
   ],
   "source": [
    "print(df.sort_values(by='population', ascending=False)[:5])\n",
    "print(df.sort_values(by='population', ascending=True)[:5])"
   ]
  },
  {
   "cell_type": "code",
   "execution_count": 29,
   "metadata": {
    "collapsed": false
   },
   "outputs": [],
   "source": [
    "df['state_abbv'] = df.NAME.apply(lambda x: x.split(',')[1].split(' ')[1])"
   ]
  },
  {
   "cell_type": "code",
   "execution_count": 31,
   "metadata": {
    "collapsed": false
   },
   "outputs": [
    {
     "data": {
      "text/plain": [
       "array(['PR', 'MD', 'TX', 'OH', 'GA', 'NY', 'NM', 'LA', 'PA--NJ', 'IL--MO',\n",
       "       'PA', 'IA', 'AK', 'IN', 'SC', 'MI', 'AL', 'CA', 'WI', 'NC', 'NJ',\n",
       "       'GA--SC', 'AZ', 'MA', 'WV', 'WA', 'WI--IL', 'OR', 'MT', 'NY--PA',\n",
       "       'ND', 'VA', 'IL', 'ID', 'FL', 'MA--NH--RI', 'CO', 'KY', 'CT--NY',\n",
       "       'TN--VA', 'VT', 'WY', 'NC--SC', 'TN--GA', 'IL--IN', 'OH--KY--IN',\n",
       "       'TN--KY', 'TN', 'MO', 'GA--AL', 'AR', 'IA--IL', 'DE', 'NH--ME',\n",
       "       'MN--WI', 'IN--MI', 'TX--NM', 'IN--KY', 'ND--MN', 'AR--MO',\n",
       "       'AR--OK', 'MS', 'MD--WV--PA', 'CT', 'WV--KY--OH', 'HI', 'MO--KS',\n",
       "       'WI--MN', 'NV', 'KS', 'OK', 'NE', 'UT', 'WA--OR', 'KY--IN', 'NH',\n",
       "       'TN--MS--AR', 'SC--NC', 'NH--MA', 'NY--NJ--CT', 'CT--RI', 'NE--IA',\n",
       "       'WV--OH', 'FL--AL', 'PA--NJ--DE--MD', 'ME', 'OR--WA', 'NY--NJ',\n",
       "       'RI--MA', 'SD', 'NV--CA', 'MN', 'IL--WI', 'MO--IL', 'MD--DE',\n",
       "       'IA--NE--SD', 'MA--CT', 'TX--AR', 'OH--MI', 'DC--VA--MD',\n",
       "       'WV--OH--PA', 'OH--PA', 'AZ--CA'], dtype=object)"
      ]
     },
     "execution_count": 31,
     "metadata": {},
     "output_type": "execute_result"
    }
   ],
   "source": [
    "df.state_abbv.unique()"
   ]
  },
  {
   "cell_type": "code",
   "execution_count": 41,
   "metadata": {
    "collapsed": false
   },
   "outputs": [
    {
     "data": {
      "text/html": [
       "<div>\n",
       "<table border=\"1\" class=\"dataframe\">\n",
       "  <thead>\n",
       "    <tr style=\"text-align: right;\">\n",
       "      <th></th>\n",
       "      <th>NAME</th>\n",
       "      <th>population</th>\n",
       "      <th>urban_area</th>\n",
       "      <th>state_abbv</th>\n",
       "    </tr>\n",
       "  </thead>\n",
       "  <tbody>\n",
       "    <tr>\n",
       "      <th>417</th>\n",
       "      <td>Weirton--Steubenville, WV--OH--PA Urbanized Ar...</td>\n",
       "      <td>68160</td>\n",
       "      <td>93592</td>\n",
       "      <td>WV--OH--PA</td>\n",
       "    </tr>\n",
       "  </tbody>\n",
       "</table>\n",
       "</div>"
      ],
      "text/plain": [
       "                                                  NAME  population  \\\n",
       "417  Weirton--Steubenville, WV--OH--PA Urbanized Ar...       68160   \n",
       "\n",
       "     urban_area  state_abbv  \n",
       "417       93592  WV--OH--PA  "
      ]
     },
     "execution_count": 41,
     "metadata": {},
     "output_type": "execute_result"
    }
   ],
   "source": [
    "# It appears that cities that span a state border have multiple state labels,\n",
    "# but the first state label is the official state so I'll approximate that to be\n",
    "# the right state."
   ]
  },
  {
   "cell_type": "code",
   "execution_count": null,
   "metadata": {
    "collapsed": true
   },
   "outputs": [],
   "source": []
  },
  {
   "cell_type": "code",
   "execution_count": null,
   "metadata": {
    "collapsed": true
   },
   "outputs": [],
   "source": []
  }
 ],
 "metadata": {
  "kernelspec": {
   "display_name": "Python 2",
   "language": "python",
   "name": "python2"
  },
  "language_info": {
   "codemirror_mode": {
    "name": "ipython",
    "version": 2
   },
   "file_extension": ".py",
   "mimetype": "text/x-python",
   "name": "python",
   "nbconvert_exporter": "python",
   "pygments_lexer": "ipython2",
   "version": "2.7.11"
  }
 },
 "nbformat": 4,
 "nbformat_minor": 0
}
