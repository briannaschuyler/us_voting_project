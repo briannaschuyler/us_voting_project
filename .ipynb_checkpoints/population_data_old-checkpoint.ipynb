{
 "cells": [
  {
   "cell_type": "code",
   "execution_count": 1,
   "metadata": {
    "collapsed": false
   },
   "outputs": [],
   "source": [
    "from highcharts import Highmap\n",
    "from highcharts import Highchart\n",
    "\n",
    "import matplotlib.pyplot as plt\n",
    "%matplotlib inline\n",
    "import numpy as np\n",
    "import pandas as pd\n",
    "import requests\n",
    "import seaborn as sns\n",
    "sns.set_context(\"talk\", font_scale=1.4)\n",
    "\n",
    "from state_details import electoral_college_votes_by_state, hc_keys_by_state"
   ]
  },
  {
   "cell_type": "markdown",
   "metadata": {},
   "source": [
    "### Get population by US county from the US Census API"
   ]
  },
  {
   "cell_type": "code",
   "execution_count": 2,
   "metadata": {
    "collapsed": true
   },
   "outputs": [],
   "source": [
    "# API key requested from www.census.gov\n",
    "f = open('/Users/brianna/Dropbox/data_project/census_api_key.txt', 'r')\n",
    "api_key = f.readline()[:-1]\n",
    "f.close()"
   ]
  },
  {
   "cell_type": "code",
   "execution_count": 3,
   "metadata": {
    "collapsed": true
   },
   "outputs": [],
   "source": [
    "# Once the data is downloaded, just save it to keep from having to continually re-request from the Census API\n",
    "upload_saved_file = True"
   ]
  },
  {
   "cell_type": "code",
   "execution_count": 4,
   "metadata": {
    "collapsed": false
   },
   "outputs": [
    {
     "name": "stdout",
     "output_type": "stream",
     "text": [
      "Reading population data locally\n"
     ]
    }
   ],
   "source": [
    "# Get population by US county (either from API or from saved file)\n",
    "if upload_saved_file:\n",
    "    print('Reading population data locally')\n",
    "    population = pd.DataFrame.from_csv('population_by_us_county.csv')\n",
    "else:\n",
    "    print('Grabbing population data from US Census')\n",
    "    url = 'http://api.census.gov/data/2015/pep/population?get=POP,GEONAME&for=%s:*&DATE=8&key=%s' % ('county', api_key)\n",
    "    response = requests.get(url)\n",
    "\n",
    "    if response.status_code != 200:\n",
    "        raise ValueError('Unexpected status code: %s' % response.status_code)\n",
    "    else:\n",
    "        data = eval(response.content)\n",
    "        headers = data.pop(0)\n",
    "        population = pd.DataFrame(data, columns=headers)\n",
    "        population['state'] = population.state.apply(lambda x: int(x))\n",
    "        # Replace commas with semicolons and save as csv file\n",
    "        population['GEONAME'] = population.GEONAME.apply(lambda x: x.replace(',', ';'))\n",
    "        population.to_csv('population_by_us_county.csv')"
   ]
  },
  {
   "cell_type": "markdown",
   "metadata": {},
   "source": [
    "### Remove non-voting states"
   ]
  },
  {
   "cell_type": "code",
   "execution_count": 5,
   "metadata": {
    "collapsed": false
   },
   "outputs": [
    {
     "name": "stdout",
     "output_type": "stream",
     "text": [
      "52 unique states\n",
      "Remove Puerto Rico (72)\n",
      "51 unique states\n"
     ]
    }
   ],
   "source": [
    "print('%s unique states' % population.state.nunique())\n",
    "print('Remove Puerto Rico (72)')\n",
    "pop_df = population.drop(population[population.state.isin([72])].index)\n",
    "print('%s unique states' % pop_df.state.nunique())"
   ]
  },
  {
   "cell_type": "markdown",
   "metadata": {},
   "source": [
    "### Split GEONAME into County, State, Division, Region, Country"
   ]
  },
  {
   "cell_type": "code",
   "execution_count": 6,
   "metadata": {
    "collapsed": false
   },
   "outputs": [],
   "source": [
    "pop_df.rename(columns={'state': 'state_no', 'county': 'county_no', 'POP': 'population'}, inplace=True)\n",
    "pop_df['county'] = pop_df.GEONAME.apply(lambda x: x.split('; ')[0])\n",
    "pop_df['state'] = pop_df.GEONAME.apply(lambda x: x.split('; ')[1])\n",
    "pop_df['division'] = pop_df.GEONAME.apply(lambda x: x.split('; ')[2])\n",
    "pop_df['region'] = pop_df.GEONAME.apply(lambda x: x.split('; ')[3])"
   ]
  },
  {
   "cell_type": "code",
   "execution_count": 7,
   "metadata": {
    "collapsed": false
   },
   "outputs": [],
   "source": [
    "# Add hc-keys for plotting in Highcharts\n",
    "pop_df['hc_key'] = pop_df.state.apply(lambda x: hc_keys_by_state[x])"
   ]
  },
  {
   "cell_type": "code",
   "execution_count": 8,
   "metadata": {
    "collapsed": false
   },
   "outputs": [],
   "source": [
    "# Convert population (POP) from string to int\n",
    "pop_df['population'] = pop_df.population.apply(lambda x: int(x))"
   ]
  },
  {
   "cell_type": "markdown",
   "metadata": {},
   "source": [
    "### Get population by state"
   ]
  },
  {
   "cell_type": "code",
   "execution_count": 9,
   "metadata": {
    "collapsed": false
   },
   "outputs": [],
   "source": [
    "state_pop = pop_df.groupby('hc_key').sum()\n",
    "state_pop['hc_key'] = state_pop.index"
   ]
  },
  {
   "cell_type": "code",
   "execution_count": 10,
   "metadata": {
    "collapsed": false
   },
   "outputs": [],
   "source": [
    "state_by_hc_key = {v: k for k, v in hc_keys_by_state.iteritems()}\n",
    "state_pop['state'] = state_pop.hc_key.apply(lambda x: state_by_hc_key[x])"
   ]
  },
  {
   "cell_type": "markdown",
   "metadata": {},
   "source": [
    "### Include electoral college votes by state"
   ]
  },
  {
   "cell_type": "code",
   "execution_count": 11,
   "metadata": {
    "collapsed": false
   },
   "outputs": [],
   "source": [
    "state_pop['ec_votes'] = state_pop.state.apply(lambda x: electoral_college_votes_by_state[x])\n",
    "state_pop['ec_votes_per_voter'] = state_pop.ec_votes / state_pop.population\n",
    "\n",
    "# These numbers are so small that they're kind of hard to understand so instead let's get the \"average\"\n",
    "# portion of an electoral college vote and look at percentage more or less than that.\n",
    "ave_ec_votes_per_voter = sum(state_pop.ec_votes) * 1.0 / sum(state_pop.population)\n",
    "state_pop['ec_votes_per_voter_percent_of_average'] = state_pop.ec_votes_per_voter * 100.0 / ave_ec_votes_per_voter\n",
    "state_pop['ec_votes_per_voter_percent_of_average'] = state_pop.ec_votes_per_voter_percent_of_average.apply(lambda x: round(x))"
   ]
  },
  {
   "cell_type": "markdown",
   "metadata": {},
   "source": [
    "### Plot By State"
   ]
  },
  {
   "cell_type": "code",
   "execution_count": 12,
   "metadata": {
    "collapsed": true
   },
   "outputs": [],
   "source": [
    "# Fill in the data structure for plotting\n",
    "state_pop_data = []\n",
    "\n",
    "plot_titles = {'population': 'US Population by State',\n",
    "               'ec_votes_per_voter': 'Electoral College Vote Portion Per Voter',\n",
    "               'ec_votes_per_voter_percent_of_average': 'Percent of National Average Representation Per Voter'}\n",
    "\n",
    "# plot_measure = 'population'\n",
    "# plot_measure = 'ec_votes_per_voter'\n",
    "plot_measure = 'ec_votes_per_voter_percent_of_average'\n",
    "\n",
    "for k in state_pop.index:\n",
    "    state_pop_data.append({'hc-key': k, 'value': state_pop[plot_measure][k]})"
   ]
  },
  {
   "cell_type": "code",
   "execution_count": 18,
   "metadata": {
    "collapsed": false
   },
   "outputs": [],
   "source": [
    "options = { # construct option dict\n",
    "                                   \n",
    "    'chart' :{ 'renderTo' : 'container'\n",
    "    },\n",
    "                           \n",
    "    'title' : {\n",
    "        'text' : plot_titles[plot_measure]\n",
    "    },\n",
    "\n",
    "    'mapNavigation': {\n",
    "        'enabled': True,\n",
    "        'buttonOptions': {\n",
    "            'verticalAlign': 'bottom'\n",
    "        }\n",
    "    },\n",
    "    'colorAxis': {\n",
    "                'type': 'linear',\n",
    "#                 'min': 5e5,\n",
    "                'minColor': '#FFFFFF', # white\n",
    "                'maxColor': '#BC0AD1', # dark magenta\n",
    "#                 'maxColor': '#699C02', # dark green      \n",
    "            },\n",
    "} "
   ]
  },
  {
   "cell_type": "code",
   "execution_count": null,
   "metadata": {
    "collapsed": false
   },
   "outputs": [],
   "source": [
    "H = Highmap(width = 650, height = 500)\n",
    "\n",
    "H.set_dict_options(options) # set options\n",
    "H.add_data_set(state_pop_data, 'map', 'Population', joinBy='hc-key', # set dataset [label string in json, label string in local dicts]\n",
    "                states={\n",
    "                    'hover': {\n",
    "                        'color': '#FFC300'\n",
    "                    }\n",
    "                },\n",
    "                dataLabels={\n",
    "                    'enabled': True,\n",
    "                    'format': '{point.properties.postal}'\n",
    "                })\n",
    "\n",
    "\n",
    "# source is javascript link from http://code.highcharts.com/mapdata/\n",
    "# H.set_map_source('http://code.highcharts.com/mapdata/countries/us/custom/us-all-mainland.js')\n",
    "H.set_map_source('http://code.highcharts.com/mapdata/countries/us/us-all.js')\n",
    "\n",
    "H"
   ]
  },
  {
   "cell_type": "code",
   "execution_count": null,
   "metadata": {
    "collapsed": false
   },
   "outputs": [],
   "source": [
    "H.save_file(plot_measure)"
   ]
  },
  {
   "cell_type": "markdown",
   "metadata": {},
   "source": [
    "### Does this over-representation consistently benefit any particular demographic?"
   ]
  },
  {
   "cell_type": "code",
   "execution_count": null,
   "metadata": {
    "collapsed": false
   },
   "outputs": [],
   "source": [
    "# Read in race/age info by state\n",
    "# if upload_saved_file:\n",
    "#     print('Reading population data locally')\n",
    "#     white_pop = pd.DataFrame.from_csv('population_by_us_county.csv')\n",
    "# else:\n",
    "#     print('Grabbing population data from US Census')\n",
    "# #     url = 'http://api.census.gov/data/2015/pep/population?get=POP,GEONAME&for=%s:*&DATE=8&key=%s' % ('county', api_key)\n",
    "#     url = 'http://api.census.gov/data/2010/sf1?key=%s&get=P0010001,NAME&for=state:*' % api_key\n",
    "#     response = requests.get(url)\n",
    "\n",
    "#     if response.status_code != 200:\n",
    "#         raise ValueError('Unexpected status code: %s' % response.status_code)\n",
    "#     else:\n",
    "#         data = eval(response.content)\n",
    "#         headers = data.pop(0)\n",
    "#         population = pd.DataFrame(data, columns=headers)\n",
    "#         population['state'] = population.state.apply(lambda x: int(x))\n",
    "#         # Replace commas with semicolons and save as csv file\n",
    "#         population['GEONAME'] = population.GEONAME.apply(lambda x: x.replace(',', ';'))\n",
    "#         population.to_csv('population_by_us_county.csv')\n",
    "        \n",
    "\n",
    "# Documentation here: http://api.census.gov/data/2010/sf1/variables.html\n",
    "# People who are white alone:\n",
    "# 'http://api.census.gov/data/2010/sf1?key=%(api_key)s&get=PCT012A001,NAME&for=state:*' % {'api_key': api_key}\n",
    "# White men age 1 to 109\n",
    "# PCT012A[003, 105]\n",
    "# White women age 1 to 109\n",
    "# PCT012A[107, 209]\n",
    "# http://api.census.gov/data/2010/sf1?key=%(api_key)s&get=PCT012A186,PCT012A187,NAME&for=state:*\n",
    "\n",
    "# Rural H0020005\n",
    "\n",
    "url = 'http://api.census.gov/data/2010/sf1?key=%(api_key)s&get=PCT012A001,NAME&for=state:*' % {'api_key': api_key}\n",
    "response = requests.get(url)\n",
    "data = eval(response.content)\n",
    "headers = data.pop(0)\n",
    "white = pd.DataFrame(data, columns=headers)\n",
    "white['state'] = white.state.apply(lambda x: int(x))\n",
    "white['PCT012A001'] = white.PCT012A001.apply(lambda x: int(x))\n",
    "white.rename(columns={'PCT012A001': 'white_pop', 'state': 'state_no', 'NAME': 'state'}, inplace=True)"
   ]
  },
  {
   "cell_type": "code",
   "execution_count": null,
   "metadata": {
    "collapsed": false
   },
   "outputs": [],
   "source": [
    "state_pop = state_pop.merge(white[['state', 'white_pop']], on='state', how='outer')"
   ]
  },
  {
   "cell_type": "code",
   "execution_count": null,
   "metadata": {
    "collapsed": false
   },
   "outputs": [],
   "source": [
    "state_pop['percent_white'] = state_pop.white_pop * 1.0 / state_pop.population"
   ]
  },
  {
   "cell_type": "code",
   "execution_count": null,
   "metadata": {
    "collapsed": false
   },
   "outputs": [],
   "source": [
    "plt.figure(figsize=(12,8))\n",
    "plt.scatter(state_pop.percent_white, state_pop.ec_votes_per_voter_percent_of_average)\n",
    "plt.xlabel('Percent White')\n",
    "plt.ylabel('Percent of National Average Voter Representation')\n",
    "plt.show()"
   ]
  },
  {
   "cell_type": "code",
   "execution_count": null,
   "metadata": {
    "collapsed": false
   },
   "outputs": [],
   "source": [
    "state_pop[state_pop.percent_white < .5].state"
   ]
  },
  {
   "cell_type": "markdown",
   "metadata": {},
   "source": [
    "# Read in population info by age/gender/race/state"
   ]
  },
  {
   "cell_type": "code",
   "execution_count": null,
   "metadata": {
    "collapsed": false
   },
   "outputs": [],
   "source": [
    "# Make dict with details of each variable, as defined in the documentation:\n",
    "# http://api.census.gov/data/2010/sf1/variables.html\n",
    "# race_codes = {'A': 'white',\n",
    "#               'B': 'black',\n",
    "#               'C': 'native_american',\n",
    "#               'D': 'asian',\n",
    "#               'E': 'pacific_islander',\n",
    "#               'F': 'other',\n",
    "#               'G': 'two_or_more_races',\n",
    "#               'H': 'hispanic'}\n",
    "\n",
    "# If we use the variables [A-G], we end up double counting people that identify as \"White, Hispanic\", for example.\n",
    "# In order to not double-count people, use the variables where people have identified as \"[Race], non-hispanic\" \n",
    "# This means all people that identify as hispanic will be classified only as hispanic (not any other race they've)\n",
    "# specified.  But otherwise because of the way the census is constructed we end up double counting 50 million people.\n",
    "race_codes = {'I': 'white',\n",
    "              'J': 'black',\n",
    "              'K': 'native_american',\n",
    "              'L': 'asian',\n",
    "              'M': 'pacific_islander',\n",
    "              'N': 'other',\n",
    "              'O': 'two_or_more_races',\n",
    "              'H': 'hispanic'}\n",
    "\n",
    "census_variables = {}\n",
    "for r in race_codes:\n",
    "    age = 0\n",
    "    for i in range(3, 3 + 101):\n",
    "        census_variables['PCT012%s%s' % (r, str(i).zfill(3))] = {'age': age, 'gender': 'male', 'race': race_codes[r]}\n",
    "        age += 1\n",
    "\n",
    "    age = 0\n",
    "    for i in range(107, 107 + 101):\n",
    "        census_variables['PCT012%s%s' % (r, str(i).zfill(3))] = {'age': age, 'gender': 'female', 'race': race_codes[r]}\n",
    "        age += 1"
   ]
  },
  {
   "cell_type": "code",
   "execution_count": null,
   "metadata": {
    "collapsed": true
   },
   "outputs": [],
   "source": [
    "upload_from_file = True"
   ]
  },
  {
   "cell_type": "code",
   "execution_count": null,
   "metadata": {
    "collapsed": false
   },
   "outputs": [],
   "source": [
    "if upload_from_file:\n",
    "    population = pd.DataFrame.from_csv('population_by_gender_age_race_state_nh.csv')\n",
    "else:\n",
    "    # For each variable (ie. each combination of age/gender/race), get the population per state.\n",
    "    # There are 100*2*8 = 1600 variables here, which means 1600 API calls.\n",
    "    # In total there will be 1600*50 = 80K rows of data in the final population dataframe.\n",
    "    population = pd.DataFrame(columns = ['population', 'state', 'age', 'gender', 'race'])\n",
    "    v_count = 1\n",
    "    for v in census_variables:\n",
    "        if v_count%20 == 0:\n",
    "            print('%s of 1600 variables completed' % v_count)\n",
    "        # Call the API to get populations by state for this age/gender/race group\n",
    "        url = 'http://api.census.gov/data/2010/sf1?key=%(api_key)s&get=%(v)s,NAME&for=state:*' % {'v': v, 'api_key': api_key}\n",
    "        response = requests.get(url)\n",
    "        data = eval(response.content)\n",
    "\n",
    "        # Turn the response into a dataframe and make it pretty\n",
    "        headers = data.pop(0)\n",
    "        df = pd.DataFrame(data, columns=headers)\n",
    "        df.drop('state', axis=1, inplace=True)\n",
    "        df.rename(columns = {v: 'population', 'NAME': 'state'}, inplace=True)\n",
    "        df['population'] = df.population.apply(lambda x: int(x))\n",
    "\n",
    "        # Add columns defining the group and append to the final dataframe\n",
    "        df['age'] = census_variables[v]['age']\n",
    "        df['gender'] = census_variables[v]['gender']\n",
    "        df['race'] = census_variables[v]['race']\n",
    "        population = population.append(df)\n",
    "        v_count += 1\n",
    "\n",
    "    population.to_csv('population_by_gender_age_race_state_nh.csv')"
   ]
  },
  {
   "cell_type": "code",
   "execution_count": null,
   "metadata": {
    "collapsed": false
   },
   "outputs": [],
   "source": [
    "sum(population.population)\n"
   ]
  },
  {
   "cell_type": "markdown",
   "metadata": {},
   "source": [
    "## Plot Age distribution by race"
   ]
  },
  {
   "cell_type": "code",
   "execution_count": null,
   "metadata": {
    "collapsed": true
   },
   "outputs": [],
   "source": [
    "gr = population.groupby(['race', 'age']).sum()\n",
    "gr['race'] = gr.index.get_level_values(0)\n",
    "gr['age'] = gr.index.get_level_values(1)\n",
    "\n",
    "race_colors = {'white': 'b',\n",
    "              'black': 'm',\n",
    "              'native_american': 'k',\n",
    "              'asian': 'g',\n",
    "              'pacific_islander': 'grey',\n",
    "              'other': 'cyan',\n",
    "              'two_or_more_races': 'r',\n",
    "              'hispanic': 'orange'}"
   ]
  },
  {
   "cell_type": "code",
   "execution_count": null,
   "metadata": {
    "collapsed": false
   },
   "outputs": [],
   "source": [
    "plt.figure(figsize=(12,8))\n",
    "for r in gr.race.unique():\n",
    "    plt.plot(gr[gr.race == r].age, gr[gr.race == r].population, label=r, color=race_colors[r])\n",
    "\n",
    "plt.xlabel('Age')\n",
    "plt.ylabel('Number of People')\n",
    "plt.legend(bbox_to_anchor=(.65, 1), loc=2, borderaxespad=0.)\n",
    "plt.show()\n",
    "\n",
    "# Plot normalized\n",
    "plt.figure(figsize=(12,8))\n",
    "for r in gr.race.unique():\n",
    "    total_pop = np.sum(gr[gr.race == r].population)\n",
    "    plt.plot(gr[gr.race == r].age, gr[gr.race == r].population / total_pop, label=r, color=race_colors[r])\n",
    "plt.xlabel('Age')\n",
    "plt.ylabel('Fraction of People')\n",
    "plt.legend(bbox_to_anchor=(.65, 1), loc=2, borderaxespad=0.)\n",
    "plt.show()\n",
    "\n",
    "# Plot normalized 18 and up (ie. eligible voters)\n",
    "plt.figure(figsize=(12,8))\n",
    "for r in gr.race.unique():\n",
    "    inclusion = (gr.race == r) & (gr.age >= 18)\n",
    "    total_pop = np.sum(gr[inclusion].population)\n",
    "    plt.plot(gr[inclusion].age, gr[inclusion].population / total_pop, label=r, color=race_colors[r])\n",
    "plt.xlabel('Age')\n",
    "plt.ylabel('Fraction of People')\n",
    "plt.legend(bbox_to_anchor=(.65, 1), loc=2, borderaxespad=0.)\n",
    "plt.show()\n"
   ]
  },
  {
   "cell_type": "markdown",
   "metadata": {},
   "source": [
    "I had never realized this before, but white people are the oldest race, on average.  So this idea that white people tend to vote more conservatively might just be because they are older."
   ]
  },
  {
   "cell_type": "markdown",
   "metadata": {
    "collapsed": true
   },
   "source": [
    "## Plot Electoral College Representation by Race and Age"
   ]
  },
  {
   "cell_type": "code",
   "execution_count": null,
   "metadata": {
    "collapsed": false
   },
   "outputs": [],
   "source": [
    "# Get a weighted average of age by dividing age * population by the population of whatever bin you're interested in\n",
    "population['age_x_population'] = population.age * population.population\n",
    "\n",
    "# Get population by state\n",
    "gr_by_state = population.groupby('state').sum()\n",
    "gr_by_state['ave_age'] = gr_by_state.age_x_population / gr_by_state.population\n",
    "gr_by_state.head()"
   ]
  },
  {
   "cell_type": "code",
   "execution_count": null,
   "metadata": {
    "collapsed": false
   },
   "outputs": [],
   "source": [
    "white = population[population.race == 'white'].groupby('state').sum()\n",
    "white = white.rename(columns = {'population': 'white_population'})"
   ]
  },
  {
   "cell_type": "code",
   "execution_count": null,
   "metadata": {
    "collapsed": false
   },
   "outputs": [],
   "source": [
    "gr_by_state = gr_by_state.merge(white[['white_population']], left_index=True, right_index=True, how='outer')"
   ]
  },
  {
   "cell_type": "code",
   "execution_count": null,
   "metadata": {
    "collapsed": true
   },
   "outputs": [],
   "source": [
    "gr_by_state['percent_white'] = gr_by_state.white_population / gr_by_state.population"
   ]
  },
  {
   "cell_type": "code",
   "execution_count": null,
   "metadata": {
    "collapsed": false
   },
   "outputs": [],
   "source": [
    "plt.scatter(gr_by_state.percent_white, gr_by_state.ave_age)"
   ]
  },
  {
   "cell_type": "code",
   "execution_count": null,
   "metadata": {
    "collapsed": false
   },
   "outputs": [],
   "source": [
    "state_pop[['state', 'ec_votes_per_voter_percent_of_average']].head()"
   ]
  },
  {
   "cell_type": "code",
   "execution_count": null,
   "metadata": {
    "collapsed": false
   },
   "outputs": [],
   "source": [
    "gr_by_state = gr_by_state.merge(state_pop[['state', 'ec_votes_per_voter_percent_of_average']],\n",
    "                               left_index=True, right_on='state', how='inner')"
   ]
  },
  {
   "cell_type": "code",
   "execution_count": null,
   "metadata": {
    "collapsed": false
   },
   "outputs": [],
   "source": [
    "# Fill in the data structure for plotting\n",
    "data = []\n",
    "\n",
    "plot_titles = {'population': 'US Population by State',\n",
    "               'ec_votes_per_voter': 'Electoral College Vote Portion Per Voter',\n",
    "               'ec_votes_per_voter_percent_of_average': 'Percent of National Average Representation Per Voter'}\n",
    "\n",
    "# plot_measure = 'population'\n",
    "# plot_measure = 'ec_votes_per_voter'\n",
    "plot_measure = 'ec_votes_per_voter_percent_of_average'\n",
    "\n",
    "for s in gr_by_state.index:\n",
    "    data.append({'x': gr_by_state.percent_white[s], \n",
    "                 'y': gr_by_state.ave_age[s],\n",
    "                 'z': gr_by_state.ec_votes_per_voter_percent_of_average[s],\n",
    "                 'name': s[-2:]})"
   ]
  },
  {
   "cell_type": "code",
   "execution_count": null,
   "metadata": {
    "collapsed": false
   },
   "outputs": [],
   "source": [
    "options = { # construct option dict\n",
    "                                   \n",
    "    'chart' :{ 'renderTo' : 'container'\n",
    "    },\n",
    "                           \n",
    "    'title' : {\n",
    "        'text' : 'Electoral College Representation By % White and Ave Age'\n",
    "    },\n",
    "\n",
    "    'colorAxis': {\n",
    "                'type': 'logarithmic',\n",
    "#                 'min': 5e5,\n",
    "                'minColor': '#FFFFFF', # white\n",
    "                'maxColor': '#BC0AD1', # dark magenta\n",
    "#                 'maxColor': '#699C02', # dark green      \n",
    "            },\n",
    "} "
   ]
  },
  {
   "cell_type": "code",
   "execution_count": null,
   "metadata": {
    "collapsed": false
   },
   "outputs": [],
   "source": [
    "H = Highchart(width = 650, height = 500)\n",
    "\n",
    "H.set_dict_options(options) # set options\n",
    "H.add_data_set(data, 'bubble', 'name',\n",
    "                states={\n",
    "                    'hover': {\n",
    "                        'color': '#FFC300'\n",
    "                    }\n",
    "                },\n",
    "                dataLabels={\n",
    "                    'enabled': True,\n",
    "                    'format': '{point.name}'\n",
    "                })\n",
    "\n",
    "H"
   ]
  },
  {
   "cell_type": "code",
   "execution_count": null,
   "metadata": {
    "collapsed": true
   },
   "outputs": [],
   "source": [
    "### REDO PROPORTIONS AND NUMBERS WITH ONLY PEOPLE OVER 18 (VOTERS)"
   ]
  }
 ],
 "metadata": {
  "kernelspec": {
   "display_name": "Python 2",
   "language": "python",
   "name": "python2"
  },
  "language_info": {
   "codemirror_mode": {
    "name": "ipython",
    "version": 2
   },
   "file_extension": ".py",
   "mimetype": "text/x-python",
   "name": "python",
   "nbconvert_exporter": "python",
   "pygments_lexer": "ipython2",
   "version": "2.7.11"
  }
 },
 "nbformat": 4,
 "nbformat_minor": 0
}
