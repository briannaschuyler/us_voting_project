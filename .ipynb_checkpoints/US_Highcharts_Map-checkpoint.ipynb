{
 "cells": [
  {
   "cell_type": "code",
   "execution_count": 1,
   "metadata": {
    "collapsed": true
   },
   "outputs": [],
   "source": [
    "from highcharts import Highchart\n",
    "from highcharts import Highmap"
   ]
  },
  {
   "cell_type": "code",
   "execution_count": 2,
   "metadata": {
    "collapsed": false
   },
   "outputs": [
    {
     "data": {
      "text/html": [
       "<iframe style=\"border:0;outline:none;overflow:hidden\" srcdoc=\"&lt;!DOCTYPE html&gt; &lt;html lang=&quot;en&quot;&gt; &lt;head&gt; &lt;meta charset=&quot;utf-8&quot; /&gt; &lt;link href=&quot;https://www.highcharts.com/highslide/highslide.css&quot; rel=&quot;stylesheet&quot; /&gt; &lt;script type=&quot;text/javascript&quot; src=&quot;https://ajax.googleapis.com/ajax/libs/jquery/1.9.1/jquery.min.js&quot;&gt;&lt;/script&gt; &lt;script type=&quot;text/javascript&quot; src=&quot;https://code.highcharts.com/highcharts.js&quot;&gt;&lt;/script&gt; &lt;script type=&quot;text/javascript&quot; src=&quot;https://code.highcharts.com/highcharts-more.js&quot;&gt;&lt;/script&gt; &lt;script type=&quot;text/javascript&quot; src=&quot;https://code.highcharts.com/modules/heatmap.js&quot;&gt;&lt;/script&gt; &lt;script type=&quot;text/javascript&quot; src=&quot;https://code.highcharts.com/modules/exporting.js&quot;&gt;&lt;/script&gt; &lt;/head&gt; &lt;body style=&quot;margin:0;padding:0&quot;&gt; &lt;div id=&quot;container&quot; style=&quot;&quot;&gt;Loading....&lt;/div&gt; &lt;script&gt; $(function(){ Highcharts.setOptions({&quot;lang&quot;: {}, &quot;global&quot;: {}}); var option = {&quot;loading&quot;: {}, &quot;subtitle&quot;: {}, &quot;xAxis&quot;: {}, &quot;title&quot;: {&quot;text&quot;: &quot;A New Highchart&quot;}, &quot;series&quot;: {}, &quot;labels&quot;: {}, &quot;yAxis&quot;: {}, &quot;chart&quot;: {&quot;renderTo&quot;: &quot;container&quot;}, &quot;tooltip&quot;: {}, &quot;plotOptions&quot;: {}, &quot;credits&quot;: {&quot;enabled&quot;: false}, &quot;colors&quot;: {}, &quot;pane&quot;: {}, &quot;exporting&quot;: {}, &quot;drilldown&quot;: {}, &quot;navigation&quot;: {}, &quot;legend&quot;: {}}; var data = [{&quot;data&quot;: [1, 2, 3, 4, 5, 6, 7, 8, 9, 10, 11, 12, 13, 14, 15, 16, 17, 18, 19], &quot;type&quot;: &quot;line&quot;, &quot;name&quot;: &quot;Example Series&quot;}]; option.series = data; var chart = new Highcharts.Chart(option); }); &lt;/script&gt; &lt;/body&gt; &lt;/html&gt;\" height=520 width=820></iframe>"
      ],
      "text/plain": [
       "<highcharts.highcharts.highcharts.Highchart at 0x104554a50>"
      ]
     },
     "execution_count": 2,
     "metadata": {},
     "output_type": "execute_result"
    }
   ],
   "source": [
    "# A chart is the container that your data will be rendered in, it can (obviously) support multiple data series within it.\n",
    "chart = Highchart()\n",
    "\n",
    "# Adding a series requires at minimum an array of data points. \n",
    "# You can also change the series type, the name, or other series options as kwargs.\n",
    "data = range(1,20)\n",
    "chart.add_data_set(data, series_type='line', name='Example Series')\n",
    "\n",
    "chart\n",
    "# This will generate and save a .html file at the location you assign\n",
    "# chart.save_file('ex1')"
   ]
  },
  {
   "cell_type": "code",
   "execution_count": 4,
   "metadata": {
    "collapsed": false
   },
   "outputs": [],
   "source": [
    "# from highcharts import Highmap\n",
    "\n",
    "# # A chart is the container that your data will be rendered in, it can (obviously) support multiple data series within it.\n",
    "# chart = Highmap()\n",
    "\n",
    "# # Adding a series requires a minimum of one argument, an array of data points\n",
    "# chart.add_data_set(data, series_type='map', name='Example Series')\n",
    "\n",
    "# # This will generate and save a .html file at the location you assign\n",
    "# chart"
   ]
  },
  {
   "cell_type": "code",
   "execution_count": 5,
   "metadata": {
    "collapsed": true
   },
   "outputs": [],
   "source": [
    "# chart.save_file('map_ex1')"
   ]
  },
  {
   "cell_type": "markdown",
   "metadata": {},
   "source": [
    "## Set map options"
   ]
  },
  {
   "cell_type": "code",
   "execution_count": 6,
   "metadata": {
    "collapsed": true
   },
   "outputs": [],
   "source": [
    "options = { # construct option dict\n",
    "                                   \n",
    "    'chart' :{ 'renderTo' : 'container'\n",
    "    },\n",
    "                           \n",
    "    'title' : {\n",
    "        'text' : 'GeoJSON in Highmaps'\n",
    "    },\n",
    "\n",
    "    'mapNavigation': {\n",
    "        'enabled': True,\n",
    "        'buttonOptions': {\n",
    "            'verticalAlign': 'bottom'\n",
    "        }\n",
    "    },\n",
    "\n",
    "    'colorAxis': {\n",
    "    },\n",
    "} "
   ]
  },
  {
   "cell_type": "markdown",
   "metadata": {},
   "source": [
    "## Set data"
   ]
  },
  {
   "cell_type": "code",
   "execution_count": 49,
   "metadata": {
    "collapsed": true
   },
   "outputs": [],
   "source": [
    "de_data = [ # input dataset \n",
    "    {\n",
    "        \"code\": \"DE.SH\",\n",
    "        \"value\": 728\n",
    "    },\n",
    "    {\n",
    "        \"code\": \"DE.BE\",\n",
    "        \"value\": 710\n",
    "    },\n",
    "    {\n",
    "        \"code\": \"DE.MV\",\n",
    "        \"value\": 963\n",
    "    },\n",
    "    {\n",
    "        \"code\": \"DE.HB\",\n",
    "        \"value\": 541\n",
    "    },\n",
    "    {\n",
    "        \"code\": \"DE.HH\",\n",
    "        \"value\": 622\n",
    "    },\n",
    "    {\n",
    "        \"code\": \"DE.RP\",\n",
    "        \"value\": 866\n",
    "    },\n",
    "    {\n",
    "        \"code\": \"DE.SL\",\n",
    "        \"value\": 398\n",
    "    },\n",
    "    {\n",
    "        \"code\": \"DE.BY\",\n",
    "        \"value\": 785\n",
    "    },\n",
    "    {\n",
    "        \"code\": \"DE.SN\",\n",
    "        \"value\": 223\n",
    "    },\n",
    "    {\n",
    "        \"code\": \"DE.ST\",\n",
    "        \"value\": 605\n",
    "    },\n",
    "    {\n",
    "        \"code\": \"DE.\",\n",
    "        \"value\": 361\n",
    "    },\n",
    "    {\n",
    "        \"code\": \"DE.NW\",\n",
    "        \"value\": 237\n",
    "    },\n",
    "    {\n",
    "        \"code\": \"DE.BW\",\n",
    "        \"value\": 157\n",
    "    },\n",
    "    {\n",
    "        \"code\": \"DE.HE\",\n",
    "        \"value\": 134\n",
    "    },\n",
    "    {\n",
    "        \"code\": \"DE.NI\",\n",
    "        \"value\": 136\n",
    "    },\n",
    "    {\n",
    "        \"code\": \"DE.TH\",\n",
    "        \"value\": 704\n",
    "    }\n",
    "]"
   ]
  },
  {
   "cell_type": "code",
   "execution_count": 52,
   "metadata": {
    "collapsed": false
   },
   "outputs": [
    {
     "data": {
      "text/html": [
       "<iframe style=\"border:0;outline:none;overflow:hidden\" srcdoc=\"&lt;!DOCTYPE html&gt; &lt;html lang=&quot;en&quot;&gt; &lt;head&gt; &lt;meta charset=&quot;utf-8&quot; /&gt; &lt;link href=&quot;https://www.highcharts.com/highslide/highslide.css&quot; rel=&quot;stylesheet&quot; /&gt; &lt;script type=&quot;text/javascript&quot; src=&quot;https://ajax.googleapis.com/ajax/libs/jquery/1.9.1/jquery.min.js&quot;&gt;&lt;/script&gt; &lt;script type=&quot;text/javascript&quot; src=&quot;https://code.highcharts.com/maps/highmaps.js&quot;&gt;&lt;/script&gt; &lt;script type=&quot;text/javascript&quot; src=&quot;https://code.highcharts.com/highcharts.js&quot;&gt;&lt;/script&gt; &lt;script type=&quot;text/javascript&quot; src=&quot;https://code.highcharts.com/maps/modules/map.js&quot;&gt;&lt;/script&gt; &lt;script type=&quot;text/javascript&quot; src=&quot;https://code.highcharts.com/maps/modules/data.js&quot;&gt;&lt;/script&gt; &lt;script type=&quot;text/javascript&quot; src=&quot;https://code.highcharts.com/maps/modules/exporting.js&quot;&gt;&lt;/script&gt; &lt;script type=&quot;text/javascript&quot; src=&quot;http://code.highcharts.com/mapdata/countries/de/de-all.js&quot;&gt;&lt;/script&gt; &lt;/head&gt; &lt;body style=&quot;margin:0;padding:0&quot;&gt; \t &lt;div id=&quot;container&quot; style=&quot;width:650px;height:500px;&quot;&gt;Loading....&lt;/div&gt; &lt;script&gt; $(function(){ var geojson = Highcharts.geojson(Highcharts.maps[&quot;countries/de/de-all&quot;]); \tHighcharts.setOptions({&quot;lang&quot;: {}, &quot;global&quot;: {}}); var option = {&quot;loading&quot;: {}, &quot;subtitle&quot;: {}, &quot;title&quot;: {&quot;text&quot;: &quot;GeoJSON in Highmaps&quot;}, &quot;series&quot;: {}, &quot;mapNavigation&quot;: {&quot;buttonOptions&quot;: {&quot;verticalAlign&quot;: &quot;bottom&quot;}, &quot;enabled&quot;: true}, &quot;labels&quot;: {}, &quot;yAxis&quot;: {}, &quot;chart&quot;: {&quot;width&quot;: 650, &quot;renderTo&quot;: &quot;container&quot;, &quot;height&quot;: 500}, &quot;tooltip&quot;: {}, &quot;plotOptions&quot;: {}, &quot;credits&quot;: {&quot;enabled&quot;: false}, &quot;colors&quot;: {}, &quot;xAxis&quot;: {}, &quot;exporting&quot;: {}, &quot;drilldown&quot;: {}, &quot;navigation&quot;: {}, &quot;legend&quot;: {}, &quot;colorAxis&quot;: {}}; var data = [{&quot;name&quot;: &quot;Random data&quot;, &quot;type&quot;: &quot;map&quot;, &quot;dataLabels&quot;: {&quot;enabled&quot;: true, &quot;format&quot;: &quot;{point.properties.postal}&quot;}, &quot;states&quot;: {&quot;hover&quot;: {&quot;color&quot;: &quot;red&quot;}}, &quot;joinBy&quot;: [&quot;hasc&quot;, &quot;code&quot;], &quot;data&quot;: [{&quot;code&quot;: &quot;DE.SH&quot;, &quot;value&quot;: 728}, {&quot;code&quot;: &quot;DE.BE&quot;, &quot;value&quot;: 710}, {&quot;code&quot;: &quot;DE.MV&quot;, &quot;value&quot;: 963}, {&quot;code&quot;: &quot;DE.HB&quot;, &quot;value&quot;: 541}, {&quot;code&quot;: &quot;DE.HH&quot;, &quot;value&quot;: 622}, {&quot;code&quot;: &quot;DE.RP&quot;, &quot;value&quot;: 866}, {&quot;code&quot;: &quot;DE.SL&quot;, &quot;value&quot;: 398}, {&quot;code&quot;: &quot;DE.BY&quot;, &quot;value&quot;: 785}, {&quot;code&quot;: &quot;DE.SN&quot;, &quot;value&quot;: 223}, {&quot;code&quot;: &quot;DE.ST&quot;, &quot;value&quot;: 605}, {&quot;code&quot;: &quot;DE.&quot;, &quot;value&quot;: 361}, {&quot;code&quot;: &quot;DE.NW&quot;, &quot;value&quot;: 237}, {&quot;code&quot;: &quot;DE.BW&quot;, &quot;value&quot;: 157}, {&quot;code&quot;: &quot;DE.HE&quot;, &quot;value&quot;: 134}, {&quot;code&quot;: &quot;DE.NI&quot;, &quot;value&quot;: 136}, {&quot;code&quot;: &quot;DE.TH&quot;, &quot;value&quot;: 704}], &quot;mapData&quot;: geojson}]; \t option.series = data; var chart = new Highcharts.Map(option); \t}); &lt;/script&gt; &lt;/body&gt; &lt;/html&gt;\" height=500 width=650></iframe>"
      ],
      "text/plain": [
       "<highcharts.highmaps.highmaps.Highmap at 0x10692ccd0>"
      ]
     },
     "execution_count": 52,
     "metadata": {},
     "output_type": "execute_result"
    }
   ],
   "source": [
    "H = Highmap(width = 650, height = 500)\n",
    "\n",
    "H.set_dict_options(options) # set options\n",
    "H.add_data_set(de_data, 'map', 'Random data', joinBy=['hasc', 'code'], # set dataset (first is label in json, second is label in local dicts)\n",
    "                states={\n",
    "                    'hover': {\n",
    "                        'color': 'red'\n",
    "                    }\n",
    "                },\n",
    "                dataLabels={\n",
    "                    'enabled': True,\n",
    "                    'format': '{point.properties.postal}'\n",
    "                })\n",
    "\n",
    "# H.set_map_source('http://www.highcharts.com/samples/data/jsonp.php?filename=germany.geo.json&callback=?', True) # set map data from the src (jsonp)\n",
    "# source is javascript link from http://code.highcharts.com/mapdata/\n",
    "H.set_map_source('http://code.highcharts.com/mapdata/countries/de/de-all.js')\n",
    "H"
   ]
  },
  {
   "cell_type": "code",
   "execution_count": 9,
   "metadata": {
    "collapsed": true
   },
   "outputs": [],
   "source": [
    "# H.save_file('map_ex')"
   ]
  },
  {
   "cell_type": "code",
   "execution_count": 10,
   "metadata": {
    "collapsed": true
   },
   "outputs": [],
   "source": [
    "us_data = [\n",
    "    {\n",
    "        \"hc-key\": \"us-ma\",\n",
    "        \"value\": 0\n",
    "    },\n",
    "    {\n",
    "        \"hc-key\": \"us-wa\",\n",
    "        \"value\": 1\n",
    "    },\n",
    "    {\n",
    "        \"hc-key\": \"us-ca\",\n",
    "        \"value\": 2\n",
    "    },\n",
    "    {\n",
    "        \"hc-key\": \"us-or\",\n",
    "        \"value\": 3\n",
    "    },\n",
    "    {\n",
    "        \"hc-key\": \"us-wi\",\n",
    "        \"value\": 4\n",
    "    },\n",
    "    {\n",
    "        \"hc-key\": \"us-me\",\n",
    "        \"value\": 5\n",
    "    },\n",
    "    {\n",
    "        \"hc-key\": \"us-mi\",\n",
    "        \"value\": 6\n",
    "    },\n",
    "    {\n",
    "        \"hc-key\": \"us-nv\",\n",
    "        \"value\": 7\n",
    "    },\n",
    "    {\n",
    "        \"hc-key\": \"us-nm\",\n",
    "        \"value\": 8\n",
    "    },\n",
    "    {\n",
    "        \"hc-key\": \"us-co\",\n",
    "        \"value\": 9\n",
    "    },\n",
    "    {\n",
    "        \"hc-key\": \"us-wy\",\n",
    "        \"value\": 10\n",
    "    },\n",
    "    {\n",
    "        \"hc-key\": \"us-ks\",\n",
    "        \"value\": 11\n",
    "    },\n",
    "    {\n",
    "        \"hc-key\": \"us-ne\",\n",
    "        \"value\": 12\n",
    "    },\n",
    "    {\n",
    "        \"hc-key\": \"us-ok\",\n",
    "        \"value\": 13\n",
    "    },\n",
    "    {\n",
    "        \"hc-key\": \"us-mo\",\n",
    "        \"value\": 14\n",
    "    },\n",
    "    {\n",
    "        \"hc-key\": \"us-il\",\n",
    "        \"value\": 15\n",
    "    },\n",
    "    {\n",
    "        \"hc-key\": \"us-in\",\n",
    "        \"value\": 16\n",
    "    },\n",
    "    {\n",
    "        \"hc-key\": \"us-vt\",\n",
    "        \"value\": 17\n",
    "    },\n",
    "    {\n",
    "        \"hc-key\": \"us-ar\",\n",
    "        \"value\": 18\n",
    "    },\n",
    "    {\n",
    "        \"hc-key\": \"us-tx\",\n",
    "        \"value\": 19\n",
    "    },\n",
    "    {\n",
    "        \"hc-key\": \"us-ri\",\n",
    "        \"value\": 20\n",
    "    },\n",
    "    {\n",
    "        \"hc-key\": \"us-al\",\n",
    "        \"value\": 21\n",
    "    },\n",
    "    {\n",
    "        \"hc-key\": \"us-ms\",\n",
    "        \"value\": 22\n",
    "    },\n",
    "    {\n",
    "        \"hc-key\": \"us-nc\",\n",
    "        \"value\": 23\n",
    "    },\n",
    "    {\n",
    "        \"hc-key\": \"us-va\",\n",
    "        \"value\": 24\n",
    "    },\n",
    "    {\n",
    "        \"hc-key\": \"us-ia\",\n",
    "        \"value\": 25\n",
    "    },\n",
    "    {\n",
    "        \"hc-key\": \"us-md\",\n",
    "        \"value\": 26\n",
    "    },\n",
    "    {\n",
    "        \"hc-key\": \"us-de\",\n",
    "        \"value\": 27\n",
    "    },\n",
    "    {\n",
    "        \"hc-key\": \"us-pa\",\n",
    "        \"value\": 28\n",
    "    },\n",
    "    {\n",
    "        \"hc-key\": \"us-nj\",\n",
    "        \"value\": 29\n",
    "    },\n",
    "    {\n",
    "        \"hc-key\": \"us-ny\",\n",
    "        \"value\": 30\n",
    "    },\n",
    "    {\n",
    "        \"hc-key\": \"us-id\",\n",
    "        \"value\": 31\n",
    "    },\n",
    "    {\n",
    "        \"hc-key\": \"us-sd\",\n",
    "        \"value\": 32\n",
    "    },\n",
    "    {\n",
    "        \"hc-key\": \"us-ct\",\n",
    "        \"value\": 33\n",
    "    },\n",
    "    {\n",
    "        \"hc-key\": \"us-nh\",\n",
    "        \"value\": 34\n",
    "    },\n",
    "    {\n",
    "        \"hc-key\": \"us-ky\",\n",
    "        \"value\": 35\n",
    "    },\n",
    "    {\n",
    "        \"hc-key\": \"us-oh\",\n",
    "        \"value\": 36\n",
    "    },\n",
    "    {\n",
    "        \"hc-key\": \"us-tn\",\n",
    "        \"value\": 37\n",
    "    },\n",
    "    {\n",
    "        \"hc-key\": \"us-wv\",\n",
    "        \"value\": 38\n",
    "    },\n",
    "    {\n",
    "        \"hc-key\": \"us-dc\",\n",
    "        \"value\": 39\n",
    "    },\n",
    "    {\n",
    "        \"hc-key\": \"us-la\",\n",
    "        \"value\": 40\n",
    "    },\n",
    "    {\n",
    "        \"hc-key\": \"us-fl\",\n",
    "        \"value\": 41\n",
    "    },\n",
    "    {\n",
    "        \"hc-key\": \"us-ga\",\n",
    "        \"value\": 42\n",
    "    },\n",
    "    {\n",
    "        \"hc-key\": \"us-sc\",\n",
    "        \"value\": 43\n",
    "    },\n",
    "    {\n",
    "        \"hc-key\": \"us-mn\",\n",
    "        \"value\": 44\n",
    "    },\n",
    "    {\n",
    "        \"hc-key\": \"us-mt\",\n",
    "        \"value\": 45\n",
    "    },\n",
    "    {\n",
    "        \"hc-key\": \"us-nd\",\n",
    "        \"value\": 46\n",
    "    },\n",
    "    {\n",
    "        \"hc-key\": \"us-az\",\n",
    "        \"value\": 47\n",
    "    },\n",
    "    {\n",
    "        \"hc-key\": \"us-ut\",\n",
    "        \"value\": 48\n",
    "    }\n",
    "];"
   ]
  },
  {
   "cell_type": "code",
   "execution_count": 53,
   "metadata": {
    "collapsed": false
   },
   "outputs": [
    {
     "data": {
      "text/html": [
       "<iframe style=\"border:0;outline:none;overflow:hidden\" srcdoc=\"&lt;!DOCTYPE html&gt; &lt;html lang=&quot;en&quot;&gt; &lt;head&gt; &lt;meta charset=&quot;utf-8&quot; /&gt; &lt;link href=&quot;https://www.highcharts.com/highslide/highslide.css&quot; rel=&quot;stylesheet&quot; /&gt; &lt;script type=&quot;text/javascript&quot; src=&quot;https://ajax.googleapis.com/ajax/libs/jquery/1.9.1/jquery.min.js&quot;&gt;&lt;/script&gt; &lt;script type=&quot;text/javascript&quot; src=&quot;https://code.highcharts.com/maps/highmaps.js&quot;&gt;&lt;/script&gt; &lt;script type=&quot;text/javascript&quot; src=&quot;https://code.highcharts.com/highcharts.js&quot;&gt;&lt;/script&gt; &lt;script type=&quot;text/javascript&quot; src=&quot;https://code.highcharts.com/maps/modules/map.js&quot;&gt;&lt;/script&gt; &lt;script type=&quot;text/javascript&quot; src=&quot;https://code.highcharts.com/maps/modules/data.js&quot;&gt;&lt;/script&gt; &lt;script type=&quot;text/javascript&quot; src=&quot;https://code.highcharts.com/maps/modules/exporting.js&quot;&gt;&lt;/script&gt; &lt;script type=&quot;text/javascript&quot; src=&quot;http://code.highcharts.com/mapdata/countries/us/custom/us-all-mainland.js&quot;&gt;&lt;/script&gt; &lt;/head&gt; &lt;body style=&quot;margin:0;padding:0&quot;&gt; \t &lt;div id=&quot;container&quot; style=&quot;width:650px;height:500px;&quot;&gt;Loading....&lt;/div&gt; &lt;script&gt; $(function(){ var geojson = Highcharts.geojson(Highcharts.maps[&quot;countries/us/custom/us-all-mainland&quot;]); \tHighcharts.setOptions({&quot;lang&quot;: {}, &quot;global&quot;: {}}); var option = {&quot;loading&quot;: {}, &quot;subtitle&quot;: {}, &quot;title&quot;: {&quot;text&quot;: &quot;GeoJSON in Highmaps&quot;}, &quot;series&quot;: {}, &quot;mapNavigation&quot;: {&quot;buttonOptions&quot;: {&quot;verticalAlign&quot;: &quot;bottom&quot;}, &quot;enabled&quot;: true}, &quot;labels&quot;: {}, &quot;yAxis&quot;: {}, &quot;chart&quot;: {&quot;width&quot;: 650, &quot;renderTo&quot;: &quot;container&quot;, &quot;height&quot;: 500}, &quot;tooltip&quot;: {}, &quot;plotOptions&quot;: {}, &quot;credits&quot;: {&quot;enabled&quot;: false}, &quot;colors&quot;: {}, &quot;xAxis&quot;: {}, &quot;exporting&quot;: {}, &quot;drilldown&quot;: {}, &quot;navigation&quot;: {}, &quot;legend&quot;: {}, &quot;colorAxis&quot;: {}}; var data = [{&quot;name&quot;: &quot;Random data&quot;, &quot;type&quot;: &quot;map&quot;, &quot;dataLabels&quot;: {&quot;enabled&quot;: true, &quot;format&quot;: &quot;{point.properties.postal}&quot;}, &quot;states&quot;: {&quot;hover&quot;: {&quot;color&quot;: &quot;red&quot;}}, &quot;joinBy&quot;: &quot;hc-key&quot;, &quot;data&quot;: [{&quot;value&quot;: 0, &quot;hc-key&quot;: &quot;us-ma&quot;}, {&quot;value&quot;: 1, &quot;hc-key&quot;: &quot;us-wa&quot;}, {&quot;value&quot;: 2, &quot;hc-key&quot;: &quot;us-ca&quot;}, {&quot;value&quot;: 3, &quot;hc-key&quot;: &quot;us-or&quot;}, {&quot;value&quot;: 4, &quot;hc-key&quot;: &quot;us-wi&quot;}, {&quot;value&quot;: 5, &quot;hc-key&quot;: &quot;us-me&quot;}, {&quot;value&quot;: 6, &quot;hc-key&quot;: &quot;us-mi&quot;}, {&quot;value&quot;: 7, &quot;hc-key&quot;: &quot;us-nv&quot;}, {&quot;value&quot;: 8, &quot;hc-key&quot;: &quot;us-nm&quot;}, {&quot;value&quot;: 9, &quot;hc-key&quot;: &quot;us-co&quot;}, {&quot;value&quot;: 10, &quot;hc-key&quot;: &quot;us-wy&quot;}, {&quot;value&quot;: 11, &quot;hc-key&quot;: &quot;us-ks&quot;}, {&quot;value&quot;: 12, &quot;hc-key&quot;: &quot;us-ne&quot;}, {&quot;value&quot;: 13, &quot;hc-key&quot;: &quot;us-ok&quot;}, {&quot;value&quot;: 14, &quot;hc-key&quot;: &quot;us-mo&quot;}, {&quot;value&quot;: 15, &quot;hc-key&quot;: &quot;us-il&quot;}, {&quot;value&quot;: 16, &quot;hc-key&quot;: &quot;us-in&quot;}, {&quot;value&quot;: 17, &quot;hc-key&quot;: &quot;us-vt&quot;}, {&quot;value&quot;: 18, &quot;hc-key&quot;: &quot;us-ar&quot;}, {&quot;value&quot;: 19, &quot;hc-key&quot;: &quot;us-tx&quot;}, {&quot;value&quot;: 20, &quot;hc-key&quot;: &quot;us-ri&quot;}, {&quot;value&quot;: 21, &quot;hc-key&quot;: &quot;us-al&quot;}, {&quot;value&quot;: 22, &quot;hc-key&quot;: &quot;us-ms&quot;}, {&quot;value&quot;: 23, &quot;hc-key&quot;: &quot;us-nc&quot;}, {&quot;value&quot;: 24, &quot;hc-key&quot;: &quot;us-va&quot;}, {&quot;value&quot;: 25, &quot;hc-key&quot;: &quot;us-ia&quot;}, {&quot;value&quot;: 26, &quot;hc-key&quot;: &quot;us-md&quot;}, {&quot;value&quot;: 27, &quot;hc-key&quot;: &quot;us-de&quot;}, {&quot;value&quot;: 28, &quot;hc-key&quot;: &quot;us-pa&quot;}, {&quot;value&quot;: 29, &quot;hc-key&quot;: &quot;us-nj&quot;}, {&quot;value&quot;: 30, &quot;hc-key&quot;: &quot;us-ny&quot;}, {&quot;value&quot;: 31, &quot;hc-key&quot;: &quot;us-id&quot;}, {&quot;value&quot;: 32, &quot;hc-key&quot;: &quot;us-sd&quot;}, {&quot;value&quot;: 33, &quot;hc-key&quot;: &quot;us-ct&quot;}, {&quot;value&quot;: 34, &quot;hc-key&quot;: &quot;us-nh&quot;}, {&quot;value&quot;: 35, &quot;hc-key&quot;: &quot;us-ky&quot;}, {&quot;value&quot;: 36, &quot;hc-key&quot;: &quot;us-oh&quot;}, {&quot;value&quot;: 37, &quot;hc-key&quot;: &quot;us-tn&quot;}, {&quot;value&quot;: 38, &quot;hc-key&quot;: &quot;us-wv&quot;}, {&quot;value&quot;: 39, &quot;hc-key&quot;: &quot;us-dc&quot;}, {&quot;value&quot;: 40, &quot;hc-key&quot;: &quot;us-la&quot;}, {&quot;value&quot;: 41, &quot;hc-key&quot;: &quot;us-fl&quot;}, {&quot;value&quot;: 42, &quot;hc-key&quot;: &quot;us-ga&quot;}, {&quot;value&quot;: 43, &quot;hc-key&quot;: &quot;us-sc&quot;}, {&quot;value&quot;: 44, &quot;hc-key&quot;: &quot;us-mn&quot;}, {&quot;value&quot;: 45, &quot;hc-key&quot;: &quot;us-mt&quot;}, {&quot;value&quot;: 46, &quot;hc-key&quot;: &quot;us-nd&quot;}, {&quot;value&quot;: 47, &quot;hc-key&quot;: &quot;us-az&quot;}, {&quot;value&quot;: 48, &quot;hc-key&quot;: &quot;us-ut&quot;}], &quot;mapData&quot;: geojson}]; \t option.series = data; var chart = new Highcharts.Map(option); \t}); &lt;/script&gt; &lt;/body&gt; &lt;/html&gt;\" height=500 width=650></iframe>"
      ],
      "text/plain": [
       "<highcharts.highmaps.highmaps.Highmap at 0x10692ce50>"
      ]
     },
     "execution_count": 53,
     "metadata": {},
     "output_type": "execute_result"
    }
   ],
   "source": [
    "H = Highmap(width = 650, height = 500)\n",
    "\n",
    "H.set_dict_options(options) # set options\n",
    "H.add_data_set(us_data, 'map', 'Random data', joinBy='hc-key', # set dataset [label string in json, label string in local dicts]\n",
    "                states={\n",
    "                    'hover': {\n",
    "                        'color': 'red'\n",
    "                    }\n",
    "                },\n",
    "                dataLabels={\n",
    "                    'enabled': True,\n",
    "                    'format': '{point.properties.postal}'\n",
    "                })\n",
    "\n",
    "\n",
    "# source is javascript link from http://code.highcharts.com/mapdata/\n",
    "H.set_map_source('http://code.highcharts.com/mapdata/countries/us/custom/us-all-mainland.js')\n",
    "\n",
    "H"
   ]
  },
  {
   "cell_type": "code",
   "execution_count": 55,
   "metadata": {
    "collapsed": true
   },
   "outputs": [],
   "source": [
    "H.save_file('us_map_random_data')"
   ]
  },
  {
   "cell_type": "code",
   "execution_count": null,
   "metadata": {
    "collapsed": true
   },
   "outputs": [],
   "source": []
  }
 ],
 "metadata": {
  "kernelspec": {
   "display_name": "Python 2",
   "language": "python",
   "name": "python2"
  },
  "language_info": {
   "codemirror_mode": {
    "name": "ipython",
    "version": 2
   },
   "file_extension": ".py",
   "mimetype": "text/x-python",
   "name": "python",
   "nbconvert_exporter": "python",
   "pygments_lexer": "ipython2",
   "version": "2.7.11"
  }
 },
 "nbformat": 4,
 "nbformat_minor": 0
}
