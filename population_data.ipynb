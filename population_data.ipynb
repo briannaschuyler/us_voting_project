{
 "cells": [
  {
   "cell_type": "code",
   "execution_count": 1,
   "metadata": {
    "collapsed": false
   },
   "outputs": [],
   "source": [
    "from highcharts import Highmap\n",
    "import matplotlib.pyplot as plt\n",
    "%matplotlib inline\n",
    "import pandas as pd\n",
    "import requests\n",
    "\n",
    "from hc_keys import hc_keys"
   ]
  },
  {
   "cell_type": "markdown",
   "metadata": {},
   "source": [
    "### Get population by US county from the US Census API"
   ]
  },
  {
   "cell_type": "code",
   "execution_count": 2,
   "metadata": {
    "collapsed": true
   },
   "outputs": [],
   "source": [
    "# API key requested from www.census.gov\n",
    "f = open('/Users/brianna/Dropbox/data_project/census_api_key.txt', 'r')\n",
    "api_key = f.readline()[:-1]\n",
    "f.close()"
   ]
  },
  {
   "cell_type": "code",
   "execution_count": 3,
   "metadata": {
    "collapsed": false
   },
   "outputs": [],
   "source": [
    "# Get population by US county\n",
    "url = 'http://api.census.gov/data/2015/pep/population?get=POP,GEONAME&for=%s:*&DATE=8&key=%s' % ('county', api_key)\n",
    "response = requests.get(url)\n",
    "\n",
    "if response.status_code != 200:\n",
    "    raise ValueError('Unexpected status code: %s' % response.status_code)\n",
    "else:\n",
    "    data = eval(response.content)\n",
    "    headers = data.pop(0)\n",
    "    population = pd.DataFrame(data, columns=headers)"
   ]
  },
  {
   "cell_type": "markdown",
   "metadata": {},
   "source": [
    "### Remove non-voting states"
   ]
  },
  {
   "cell_type": "code",
   "execution_count": 4,
   "metadata": {
    "collapsed": false
   },
   "outputs": [
    {
     "name": "stdout",
     "output_type": "stream",
     "text": [
      "52 unique states\n",
      "Remove Puerto Rico (72) and District of Columbia (11)\n",
      "50 unique states\n"
     ]
    }
   ],
   "source": [
    "print('%s unique states' % population.state.nunique())\n",
    "print('Remove Puerto Rico (72) and District of Columbia (11)')\n",
    "pop_df = population.drop(population[population.state.isin(['11', '72'])].index)\n",
    "print('%s unique states' % pop_df.state.nunique())"
   ]
  },
  {
   "cell_type": "markdown",
   "metadata": {},
   "source": [
    "### Split GEONAME into County, State, Division, Region, Country"
   ]
  },
  {
   "cell_type": "code",
   "execution_count": 5,
   "metadata": {
    "collapsed": false
   },
   "outputs": [],
   "source": [
    "pop_df.rename(columns={'state': 'state_no', 'county': 'county_no', 'POP': 'population'}, inplace=True)\n",
    "pop_df['county'] = pop_df.GEONAME.apply(lambda x: x.split(', ')[0])\n",
    "pop_df['state'] = pop_df.GEONAME.apply(lambda x: x.split(', ')[1])\n",
    "pop_df['division'] = pop_df.GEONAME.apply(lambda x: x.split(', ')[2])\n",
    "pop_df['region'] = pop_df.GEONAME.apply(lambda x: x.split(', ')[3])"
   ]
  },
  {
   "cell_type": "code",
   "execution_count": 6,
   "metadata": {
    "collapsed": true
   },
   "outputs": [],
   "source": [
    "# Add hc-keys for plotting in Highcharts\n",
    "pop_df['hc_key'] = pop_df.state.apply(lambda x: hc_keys[x])"
   ]
  },
  {
   "cell_type": "code",
   "execution_count": 7,
   "metadata": {
    "collapsed": false
   },
   "outputs": [],
   "source": [
    "# Convert population (POP) from string to int\n",
    "pop_df['population'] = pop_df.population.apply(lambda x: int(x))"
   ]
  },
  {
   "cell_type": "markdown",
   "metadata": {},
   "source": [
    "### Get population by state"
   ]
  },
  {
   "cell_type": "code",
   "execution_count": 8,
   "metadata": {
    "collapsed": false
   },
   "outputs": [],
   "source": [
    "state_pop = pop_df.groupby('hc_key').sum()"
   ]
  },
  {
   "cell_type": "code",
   "execution_count": 9,
   "metadata": {
    "collapsed": false
   },
   "outputs": [],
   "source": [
    "# state_pop.head()"
   ]
  },
  {
   "cell_type": "code",
   "execution_count": 10,
   "metadata": {
    "collapsed": true
   },
   "outputs": [],
   "source": [
    "state_pop_data = []\n",
    "\n",
    "for k in state_pop.index:\n",
    "    state_pop_data.append({'hc-key': k, 'value': state_pop.population[k]})"
   ]
  },
  {
   "cell_type": "markdown",
   "metadata": {},
   "source": [
    "### Plot population by state"
   ]
  },
  {
   "cell_type": "code",
   "execution_count": 65,
   "metadata": {
    "collapsed": false
   },
   "outputs": [],
   "source": [
    "options = { # construct option dict\n",
    "                                   \n",
    "    'chart' :{ 'renderTo' : 'container'\n",
    "    },\n",
    "                           \n",
    "    'title' : {\n",
    "        'text' : 'US Population by State'\n",
    "    },\n",
    "\n",
    "    'mapNavigation': {\n",
    "        'enabled': True,\n",
    "        'buttonOptions': {\n",
    "            'verticalAlign': 'bottom'\n",
    "        }\n",
    "    },\n",
    "    'colorAxis': {\n",
    "                'type': 'logarithmic',\n",
    "                'min': 5e5,\n",
    "                'minColor': '#FFFFFF', # white\n",
    "                'maxColor': '#BC0AD1', # dark magenta\n",
    "#                 'maxColor': '#699C02', # dark green      \n",
    "            },\n",
    "} "
   ]
  },
  {
   "cell_type": "code",
   "execution_count": 66,
   "metadata": {
    "collapsed": false
   },
   "outputs": [
    {
     "data": {
      "text/html": [
       "<iframe style=\"border:0;outline:none;overflow:hidden\" srcdoc=\"&lt;!DOCTYPE html&gt; &lt;html lang=&quot;en&quot;&gt; &lt;head&gt; &lt;meta charset=&quot;utf-8&quot; /&gt; &lt;link href=&quot;https://www.highcharts.com/highslide/highslide.css&quot; rel=&quot;stylesheet&quot; /&gt; &lt;script type=&quot;text/javascript&quot; src=&quot;https://ajax.googleapis.com/ajax/libs/jquery/1.9.1/jquery.min.js&quot;&gt;&lt;/script&gt; &lt;script type=&quot;text/javascript&quot; src=&quot;https://code.highcharts.com/maps/highmaps.js&quot;&gt;&lt;/script&gt; &lt;script type=&quot;text/javascript&quot; src=&quot;https://code.highcharts.com/highcharts.js&quot;&gt;&lt;/script&gt; &lt;script type=&quot;text/javascript&quot; src=&quot;https://code.highcharts.com/maps/modules/map.js&quot;&gt;&lt;/script&gt; &lt;script type=&quot;text/javascript&quot; src=&quot;https://code.highcharts.com/maps/modules/data.js&quot;&gt;&lt;/script&gt; &lt;script type=&quot;text/javascript&quot; src=&quot;https://code.highcharts.com/maps/modules/exporting.js&quot;&gt;&lt;/script&gt; &lt;script type=&quot;text/javascript&quot; src=&quot;http://code.highcharts.com/mapdata/countries/us/us-all.js&quot;&gt;&lt;/script&gt; &lt;/head&gt; &lt;body style=&quot;margin:0;padding:0&quot;&gt; \t &lt;div id=&quot;container&quot; style=&quot;width:650px;height:500px;&quot;&gt;Loading....&lt;/div&gt; &lt;script&gt; $(function(){ var geojson = Highcharts.geojson(Highcharts.maps[&quot;countries/us/us-all&quot;]); \tHighcharts.setOptions({&quot;lang&quot;: {}, &quot;global&quot;: {}}); var option = {&quot;loading&quot;: {}, &quot;subtitle&quot;: {}, &quot;title&quot;: {&quot;text&quot;: &quot;US Population by State&quot;}, &quot;series&quot;: {}, &quot;mapNavigation&quot;: {&quot;buttonOptions&quot;: {&quot;verticalAlign&quot;: &quot;bottom&quot;}, &quot;enabled&quot;: true}, &quot;labels&quot;: {}, &quot;yAxis&quot;: {}, &quot;chart&quot;: {&quot;width&quot;: 650, &quot;renderTo&quot;: &quot;container&quot;, &quot;height&quot;: 500}, &quot;tooltip&quot;: {}, &quot;plotOptions&quot;: {}, &quot;credits&quot;: {&quot;enabled&quot;: false}, &quot;colors&quot;: {}, &quot;xAxis&quot;: {}, &quot;exporting&quot;: {}, &quot;drilldown&quot;: {}, &quot;navigation&quot;: {}, &quot;legend&quot;: {}, &quot;colorAxis&quot;: {&quot;minColor&quot;: &quot;#FFFFFF&quot;, &quot;maxColor&quot;: &quot;#BC0AD1&quot;, &quot;type&quot;: &quot;logarithmic&quot;, &quot;min&quot;: 500000.0}}; var data = [{&quot;name&quot;: &quot;Population&quot;, &quot;type&quot;: &quot;map&quot;, &quot;dataLabels&quot;: {&quot;enabled&quot;: true, &quot;format&quot;: &quot;{point.properties.postal}&quot;}, &quot;states&quot;: {&quot;hover&quot;: {&quot;color&quot;: &quot;#FFC300&quot;}}, &quot;joinBy&quot;: &quot;hc-key&quot;, &quot;data&quot;: [{&quot;value&quot;: 738432, &quot;hc-key&quot;: &quot;us-ak&quot;}, {&quot;value&quot;: 4858979, &quot;hc-key&quot;: &quot;us-al&quot;}, {&quot;value&quot;: 2978204, &quot;hc-key&quot;: &quot;us-ar&quot;}, {&quot;value&quot;: 6828065, &quot;hc-key&quot;: &quot;us-az&quot;}, {&quot;value&quot;: 39144818, &quot;hc-key&quot;: &quot;us-ca&quot;}, {&quot;value&quot;: 5456574, &quot;hc-key&quot;: &quot;us-co&quot;}, {&quot;value&quot;: 3590886, &quot;hc-key&quot;: &quot;us-ct&quot;}, {&quot;value&quot;: 945934, &quot;hc-key&quot;: &quot;us-de&quot;}, {&quot;value&quot;: 20271272, &quot;hc-key&quot;: &quot;us-fl&quot;}, {&quot;value&quot;: 10214860, &quot;hc-key&quot;: &quot;us-ga&quot;}, {&quot;value&quot;: 1431603, &quot;hc-key&quot;: &quot;us-hi&quot;}, {&quot;value&quot;: 3123899, &quot;hc-key&quot;: &quot;us-ia&quot;}, {&quot;value&quot;: 1654930, &quot;hc-key&quot;: &quot;us-id&quot;}, {&quot;value&quot;: 12859995, &quot;hc-key&quot;: &quot;us-il&quot;}, {&quot;value&quot;: 6619680, &quot;hc-key&quot;: &quot;us-in&quot;}, {&quot;value&quot;: 2911641, &quot;hc-key&quot;: &quot;us-ks&quot;}, {&quot;value&quot;: 4425092, &quot;hc-key&quot;: &quot;us-ky&quot;}, {&quot;value&quot;: 4670724, &quot;hc-key&quot;: &quot;us-la&quot;}, {&quot;value&quot;: 6794422, &quot;hc-key&quot;: &quot;us-ma&quot;}, {&quot;value&quot;: 6006401, &quot;hc-key&quot;: &quot;us-md&quot;}, {&quot;value&quot;: 1329328, &quot;hc-key&quot;: &quot;us-me&quot;}, {&quot;value&quot;: 9922576, &quot;hc-key&quot;: &quot;us-mi&quot;}, {&quot;value&quot;: 5489594, &quot;hc-key&quot;: &quot;us-mn&quot;}, {&quot;value&quot;: 6083672, &quot;hc-key&quot;: &quot;us-mo&quot;}, {&quot;value&quot;: 2992333, &quot;hc-key&quot;: &quot;us-ms&quot;}, {&quot;value&quot;: 1032949, &quot;hc-key&quot;: &quot;us-mt&quot;}, {&quot;value&quot;: 10042802, &quot;hc-key&quot;: &quot;us-nc&quot;}, {&quot;value&quot;: 756927, &quot;hc-key&quot;: &quot;us-nd&quot;}, {&quot;value&quot;: 1896190, &quot;hc-key&quot;: &quot;us-ne&quot;}, {&quot;value&quot;: 1330608, &quot;hc-key&quot;: &quot;us-nh&quot;}, {&quot;value&quot;: 8958013, &quot;hc-key&quot;: &quot;us-nj&quot;}, {&quot;value&quot;: 2085109, &quot;hc-key&quot;: &quot;us-nm&quot;}, {&quot;value&quot;: 2890845, &quot;hc-key&quot;: &quot;us-nv&quot;}, {&quot;value&quot;: 19795791, &quot;hc-key&quot;: &quot;us-ny&quot;}, {&quot;value&quot;: 11613423, &quot;hc-key&quot;: &quot;us-oh&quot;}, {&quot;value&quot;: 3911338, &quot;hc-key&quot;: &quot;us-ok&quot;}, {&quot;value&quot;: 4028977, &quot;hc-key&quot;: &quot;us-or&quot;}, {&quot;value&quot;: 12802503, &quot;hc-key&quot;: &quot;us-pa&quot;}, {&quot;value&quot;: 1056298, &quot;hc-key&quot;: &quot;us-ri&quot;}, {&quot;value&quot;: 4896146, &quot;hc-key&quot;: &quot;us-sc&quot;}, {&quot;value&quot;: 858469, &quot;hc-key&quot;: &quot;us-sd&quot;}, {&quot;value&quot;: 6600299, &quot;hc-key&quot;: &quot;us-tn&quot;}, {&quot;value&quot;: 27469114, &quot;hc-key&quot;: &quot;us-tx&quot;}, {&quot;value&quot;: 2995919, &quot;hc-key&quot;: &quot;us-ut&quot;}, {&quot;value&quot;: 8382993, &quot;hc-key&quot;: &quot;us-va&quot;}, {&quot;value&quot;: 626042, &quot;hc-key&quot;: &quot;us-vt&quot;}, {&quot;value&quot;: 7170351, &quot;hc-key&quot;: &quot;us-wa&quot;}, {&quot;value&quot;: 5771337, &quot;hc-key&quot;: &quot;us-wi&quot;}, {&quot;value&quot;: 1844128, &quot;hc-key&quot;: &quot;us-wv&quot;}, {&quot;value&quot;: 586107, &quot;hc-key&quot;: &quot;us-wy&quot;}], &quot;mapData&quot;: geojson}]; \t option.series = data; var chart = new Highcharts.Map(option); \t}); &lt;/script&gt; &lt;/body&gt; &lt;/html&gt;\" height=500 width=650></iframe>"
      ],
      "text/plain": [
       "<highcharts.highmaps.highmaps.Highmap at 0x1099d4710>"
      ]
     },
     "execution_count": 66,
     "metadata": {},
     "output_type": "execute_result"
    }
   ],
   "source": [
    "H = Highmap(width = 650, height = 500)\n",
    "\n",
    "H.set_dict_options(options) # set options\n",
    "H.add_data_set(state_pop_data, 'map', 'Population', joinBy='hc-key', # set dataset [label string in json, label string in local dicts]\n",
    "                states={\n",
    "                    'hover': {\n",
    "                        'color': '#FFC300'\n",
    "                    }\n",
    "                },\n",
    "                dataLabels={\n",
    "                    'enabled': True,\n",
    "                    'format': '{point.properties.postal}'\n",
    "                })\n",
    "\n",
    "\n",
    "# source is javascript link from http://code.highcharts.com/mapdata/\n",
    "# H.set_map_source('http://code.highcharts.com/mapdata/countries/us/custom/us-all-mainland.js')\n",
    "H.set_map_source('http://code.highcharts.com/mapdata/countries/us/us-all.js')\n",
    "\n",
    "H"
   ]
  },
  {
   "cell_type": "code",
   "execution_count": null,
   "metadata": {
    "collapsed": true
   },
   "outputs": [],
   "source": []
  },
  {
   "cell_type": "code",
   "execution_count": null,
   "metadata": {
    "collapsed": true
   },
   "outputs": [],
   "source": []
  }
 ],
 "metadata": {
  "kernelspec": {
   "display_name": "Python 2",
   "language": "python",
   "name": "python2"
  },
  "language_info": {
   "codemirror_mode": {
    "name": "ipython",
    "version": 2
   },
   "file_extension": ".py",
   "mimetype": "text/x-python",
   "name": "python",
   "nbconvert_exporter": "python",
   "pygments_lexer": "ipython2",
   "version": "2.7.11"
  }
 },
 "nbformat": 4,
 "nbformat_minor": 0
}
